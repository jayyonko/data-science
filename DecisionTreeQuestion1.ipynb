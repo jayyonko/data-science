{
 "cells": [
  {
   "cell_type": "code",
   "execution_count": null,
   "id": "1f51351e",
   "metadata": {},
   "outputs": [],
   "source": [
    "import numpy as np \n",
    "import pandas as pd\n",
    "import matplotlib.pyplot as plt\n",
    "%matplotlib inline \n",
    "import seaborn as sns"
   ]
  },
  {
   "cell_type": "code",
   "execution_count": null,
   "id": "a9f03e1b",
   "metadata": {},
   "outputs": [],
   "source": [
    "df = pd.read_csv(\"C:/Users/Hp/Desktop/pyth/data sets/titanic_data.csv\")\n",
    "df.head()"
   ]
  },
  {
   "cell_type": "code",
   "execution_count": null,
   "id": "15594291",
   "metadata": {},
   "outputs": [],
   "source": [
    "df.drop(['Passengerid','sibsp','Parch','zero','zero.1','zero.2','zero.3','zero.4','zero.5','zero.6','zero.7','zero.8','zero.9','zero.10','zero.11','zero.12','zero.13','zero.14','zero.15','zero.16','zero.17','zero.18','Embarked'],axis='columns', inplace=True)"
   ]
  },
  {
   "cell_type": "code",
   "execution_count": null,
   "id": "d3b65deb",
   "metadata": {},
   "outputs": [],
   "source": [
    "df.head()"
   ]
  },
  {
   "cell_type": "code",
   "execution_count": null,
   "id": "2745882d",
   "metadata": {
    "scrolled": true
   },
   "outputs": [],
   "source": [
    "def df_vis(data):\n",
    "    print('######################## Head ########################')\n",
    "    print(data.head())\n",
    "    print('######################## Tail ########################')\n",
    "    print(data.tail())\n",
    "    print('######################## dType ########################')\n",
    "    print(data.dtypes)\n",
    "    print('######################## Shape ########################')\n",
    "    print(data.shape)\n",
    "    print('######################## Info ########################')\n",
    "    print(data.describe().T)\n",
    "    print('######################## NA ########################')\n",
    "    print(data.isnull().sum())\n",
    "df_vis(df)"
   ]
  },
  {
   "cell_type": "code",
   "execution_count": null,
   "id": "fb13529a",
   "metadata": {
    "scrolled": true
   },
   "outputs": [],
   "source": [
    "df['2urvived'].replace(\"Survived\")"
   ]
  },
  {
   "cell_type": "code",
   "execution_count": null,
   "id": "0d8f128d",
   "metadata": {},
   "outputs": [],
   "source": [
    "df.rename(columns={'2urvived':'survived'},inplace=True)"
   ]
  },
  {
   "cell_type": "code",
   "execution_count": null,
   "id": "a89f8bd0",
   "metadata": {},
   "outputs": [],
   "source": [
    "inputs = df.drop(\"survived\",axis=\"columns\")\n",
    "target = df['survived']"
   ]
  },
  {
   "cell_type": "code",
   "execution_count": null,
   "id": "8d907b69",
   "metadata": {},
   "outputs": [],
   "source": [
    "from sklearn.model_selection import train_test_split"
   ]
  },
  {
   "cell_type": "code",
   "execution_count": null,
   "id": "2cd0e642",
   "metadata": {},
   "outputs": [],
   "source": [
    "X_train,X_test,y_train,y_test = train_test_split(inputs,target,train_size=0.2)"
   ]
  },
  {
   "cell_type": "code",
   "execution_count": null,
   "id": "ce501880",
   "metadata": {},
   "outputs": [],
   "source": [
    "from sklearn import tree\n",
    "model = tree.DecisionTreeClassifier(criterion='entropy')"
   ]
  },
  {
   "cell_type": "code",
   "execution_count": null,
   "id": "f4d48008",
   "metadata": {},
   "outputs": [],
   "source": [
    "model.fit(X_train,y_train,)"
   ]
  },
  {
   "cell_type": "code",
   "execution_count": null,
   "id": "54fbdc3d",
   "metadata": {},
   "outputs": [],
   "source": [
    "model.score(X_test,y_test)"
   ]
  }
 ],
 "metadata": {
  "kernelspec": {
   "display_name": "Python 3 (ipykernel)",
   "language": "python",
   "name": "python3"
  },
  "language_info": {
   "codemirror_mode": {
    "name": "ipython",
    "version": 3
   },
   "file_extension": ".py",
   "mimetype": "text/x-python",
   "name": "python",
   "nbconvert_exporter": "python",
   "pygments_lexer": "ipython3",
   "version": "3.10.9"
  }
 },
 "nbformat": 4,
 "nbformat_minor": 5
}
